{
 "cells": [
  {
   "cell_type": "code",
   "execution_count": 1,
   "id": "6abc730e",
   "metadata": {},
   "outputs": [],
   "source": [
    "import pandas as pd"
   ]
  },
  {
   "cell_type": "code",
   "execution_count": 2,
   "id": "03fac59a",
   "metadata": {},
   "outputs": [],
   "source": [
    "df = pd.read_json('../../watcher_crawl/watcher.jl', lines=True)"
   ]
  },
  {
   "cell_type": "code",
   "execution_count": 3,
   "id": "94ac921e",
   "metadata": {},
   "outputs": [
    {
     "data": {
      "text/html": [
       "<div>\n",
       "<style scoped>\n",
       "    .dataframe tbody tr th:only-of-type {\n",
       "        vertical-align: middle;\n",
       "    }\n",
       "\n",
       "    .dataframe tbody tr th {\n",
       "        vertical-align: top;\n",
       "    }\n",
       "\n",
       "    .dataframe thead th {\n",
       "        text-align: right;\n",
       "    }\n",
       "</style>\n",
       "<table border=\"1\" class=\"dataframe\">\n",
       "  <thead>\n",
       "    <tr style=\"text-align: right;\">\n",
       "      <th></th>\n",
       "      <th>company_name</th>\n",
       "      <th>company_code</th>\n",
       "      <th>company_sector</th>\n",
       "      <th>company_industry</th>\n",
       "      <th>scraped_table</th>\n",
       "      <th>records</th>\n",
       "    </tr>\n",
       "  </thead>\n",
       "  <tbody>\n",
       "    <tr>\n",
       "      <th>0</th>\n",
       "      <td>adani-enterprises-ltd</td>\n",
       "      <td>9074</td>\n",
       "      <td>Diversified</td>\n",
       "      <td>Diversified</td>\n",
       "      <td>income-quaterly</td>\n",
       "      <td>{'columns': ['fields', 'Sep 2021', 'Jun 2021',...</td>\n",
       "    </tr>\n",
       "    <tr>\n",
       "      <th>1</th>\n",
       "      <td>adani-enterprises-ltd</td>\n",
       "      <td>9074</td>\n",
       "      <td>Diversified</td>\n",
       "      <td>Diversified</td>\n",
       "      <td>income-annual</td>\n",
       "      <td>{'columns': ['fields', 'FY  2021', 'FY  2020',...</td>\n",
       "    </tr>\n",
       "    <tr>\n",
       "      <th>2</th>\n",
       "      <td>adani-enterprises-ltd</td>\n",
       "      <td>9074</td>\n",
       "      <td>Diversified</td>\n",
       "      <td>Diversified</td>\n",
       "      <td>balance-sheet</td>\n",
       "      <td>{'columns': ['fields', 'FY  2021', 'FY  2020',...</td>\n",
       "    </tr>\n",
       "    <tr>\n",
       "      <th>3</th>\n",
       "      <td>adani-enterprises-ltd</td>\n",
       "      <td>9074</td>\n",
       "      <td>Diversified</td>\n",
       "      <td>Diversified</td>\n",
       "      <td>cash-flow</td>\n",
       "      <td>{'columns': ['fields', 'FY  2021', 'FY  2020',...</td>\n",
       "    </tr>\n",
       "    <tr>\n",
       "      <th>4</th>\n",
       "      <td>adani-enterprises-ltd</td>\n",
       "      <td>9074</td>\n",
       "      <td>Diversified</td>\n",
       "      <td>Diversified</td>\n",
       "      <td>ratios</td>\n",
       "      <td>{'columns': ['fields', 'FY  2021', 'FY  2020',...</td>\n",
       "    </tr>\n",
       "  </tbody>\n",
       "</table>\n",
       "</div>"
      ],
      "text/plain": [
       "            company_name  company_code company_sector company_industry  \\\n",
       "0  adani-enterprises-ltd          9074    Diversified      Diversified   \n",
       "1  adani-enterprises-ltd          9074    Diversified      Diversified   \n",
       "2  adani-enterprises-ltd          9074    Diversified      Diversified   \n",
       "3  adani-enterprises-ltd          9074    Diversified      Diversified   \n",
       "4  adani-enterprises-ltd          9074    Diversified      Diversified   \n",
       "\n",
       "     scraped_table                                            records  \n",
       "0  income-quaterly  {'columns': ['fields', 'Sep 2021', 'Jun 2021',...  \n",
       "1    income-annual  {'columns': ['fields', 'FY  2021', 'FY  2020',...  \n",
       "2    balance-sheet  {'columns': ['fields', 'FY  2021', 'FY  2020',...  \n",
       "3        cash-flow  {'columns': ['fields', 'FY  2021', 'FY  2020',...  \n",
       "4           ratios  {'columns': ['fields', 'FY  2021', 'FY  2020',...  "
      ]
     },
     "execution_count": 3,
     "metadata": {},
     "output_type": "execute_result"
    }
   ],
   "source": [
    "df.head()"
   ]
  },
  {
   "cell_type": "code",
   "execution_count": 4,
   "id": "0f8464f2",
   "metadata": {},
   "outputs": [],
   "source": [
    "df = df[['company_name', 'company_code', 'company_sector', 'company_industry']]"
   ]
  },
  {
   "cell_type": "code",
   "execution_count": 5,
   "id": "2001d0d8",
   "metadata": {},
   "outputs": [
    {
     "data": {
      "text/html": [
       "<div>\n",
       "<style scoped>\n",
       "    .dataframe tbody tr th:only-of-type {\n",
       "        vertical-align: middle;\n",
       "    }\n",
       "\n",
       "    .dataframe tbody tr th {\n",
       "        vertical-align: top;\n",
       "    }\n",
       "\n",
       "    .dataframe thead th {\n",
       "        text-align: right;\n",
       "    }\n",
       "</style>\n",
       "<table border=\"1\" class=\"dataframe\">\n",
       "  <thead>\n",
       "    <tr style=\"text-align: right;\">\n",
       "      <th></th>\n",
       "      <th>company_name</th>\n",
       "      <th>company_code</th>\n",
       "      <th>company_sector</th>\n",
       "      <th>company_industry</th>\n",
       "    </tr>\n",
       "  </thead>\n",
       "  <tbody>\n",
       "    <tr>\n",
       "      <th>0</th>\n",
       "      <td>adani-enterprises-ltd</td>\n",
       "      <td>9074</td>\n",
       "      <td>Diversified</td>\n",
       "      <td>Diversified</td>\n",
       "    </tr>\n",
       "    <tr>\n",
       "      <th>1</th>\n",
       "      <td>adani-enterprises-ltd</td>\n",
       "      <td>9074</td>\n",
       "      <td>Diversified</td>\n",
       "      <td>Diversified</td>\n",
       "    </tr>\n",
       "    <tr>\n",
       "      <th>2</th>\n",
       "      <td>adani-enterprises-ltd</td>\n",
       "      <td>9074</td>\n",
       "      <td>Diversified</td>\n",
       "      <td>Diversified</td>\n",
       "    </tr>\n",
       "    <tr>\n",
       "      <th>3</th>\n",
       "      <td>adani-enterprises-ltd</td>\n",
       "      <td>9074</td>\n",
       "      <td>Diversified</td>\n",
       "      <td>Diversified</td>\n",
       "    </tr>\n",
       "    <tr>\n",
       "      <th>4</th>\n",
       "      <td>adani-enterprises-ltd</td>\n",
       "      <td>9074</td>\n",
       "      <td>Diversified</td>\n",
       "      <td>Diversified</td>\n",
       "    </tr>\n",
       "  </tbody>\n",
       "</table>\n",
       "</div>"
      ],
      "text/plain": [
       "            company_name  company_code company_sector company_industry\n",
       "0  adani-enterprises-ltd          9074    Diversified      Diversified\n",
       "1  adani-enterprises-ltd          9074    Diversified      Diversified\n",
       "2  adani-enterprises-ltd          9074    Diversified      Diversified\n",
       "3  adani-enterprises-ltd          9074    Diversified      Diversified\n",
       "4  adani-enterprises-ltd          9074    Diversified      Diversified"
      ]
     },
     "execution_count": 5,
     "metadata": {},
     "output_type": "execute_result"
    }
   ],
   "source": [
    "df.head()"
   ]
  },
  {
   "cell_type": "code",
   "execution_count": 6,
   "id": "e12e67b5",
   "metadata": {},
   "outputs": [],
   "source": [
    "df = df.drop_duplicates()"
   ]
  },
  {
   "cell_type": "code",
   "execution_count": 7,
   "id": "66a0fb18",
   "metadata": {},
   "outputs": [],
   "source": [
    "df.reset_index(inplace=True)"
   ]
  },
  {
   "cell_type": "code",
   "execution_count": 8,
   "id": "0b34f2b1",
   "metadata": {},
   "outputs": [],
   "source": [
    "df.drop(columns=['index'], inplace = True)"
   ]
  },
  {
   "cell_type": "code",
   "execution_count": 9,
   "id": "41f824c0",
   "metadata": {},
   "outputs": [],
   "source": [
    "import pymongo"
   ]
  },
  {
   "cell_type": "code",
   "execution_count": 10,
   "id": "152489ab",
   "metadata": {},
   "outputs": [],
   "source": [
    "myclient = pymongo.MongoClient(\"mongodb://localhost:27017/\")\n",
    "m_db = myclient[\"The-watcher\"]"
   ]
  },
  {
   "cell_type": "code",
   "execution_count": 11,
   "id": "68881385",
   "metadata": {},
   "outputs": [
    {
     "data": {
      "text/plain": [
       "['The-watcher', 'admin', 'config', 'local']"
      ]
     },
     "execution_count": 11,
     "metadata": {},
     "output_type": "execute_result"
    }
   ],
   "source": [
    "myclient.list_database_names()"
   ]
  },
  {
   "cell_type": "code",
   "execution_count": 12,
   "id": "6e81dd13",
   "metadata": {},
   "outputs": [],
   "source": [
    "coll = m_db.create_collection('company_details')"
   ]
  },
  {
   "cell_type": "code",
   "execution_count": 13,
   "id": "3ead10a3",
   "metadata": {},
   "outputs": [
    {
     "data": {
      "text/plain": [
       "<pymongo.results.InsertManyResult at 0x7fd09c46da00>"
      ]
     },
     "execution_count": 13,
     "metadata": {},
     "output_type": "execute_result"
    }
   ],
   "source": [
    "coll.insert_many(df.to_dict('records'))"
   ]
  },
  {
   "cell_type": "code",
   "execution_count": 14,
   "id": "904ece42",
   "metadata": {},
   "outputs": [
    {
     "name": "stdout",
     "output_type": "stream",
     "text": [
      "{'_id': ObjectId('625505f5c629d1a89f8bfadd'), 'company_name': 'adani-enterprises-ltd', 'company_code': 9074, 'company_sector': 'Diversified', 'company_industry': 'Diversified'}\n",
      "{'_id': ObjectId('625505f5c629d1a89f8bfade'), 'company_name': 'bharti-airtel-ltd', 'company_code': 2718, 'company_sector': 'Telecommunications', 'company_industry': 'Telecommunications - Service'}\n",
      "{'_id': ObjectId('625505f5c629d1a89f8bfadf'), 'company_name': 'bajaj-finance-ltd', 'company_code': 11260, 'company_sector': 'NBFC', 'company_industry': 'NBFC - Consumer'}\n",
      "{'_id': ObjectId('625505f5c629d1a89f8bfae0'), 'company_name': 'hdfc-bank-ltd', 'company_code': 9195, 'company_sector': 'Banks', 'company_industry': 'Banks - Private Sector'}\n",
      "{'_id': ObjectId('625505f5c629d1a89f8bfae1'), 'company_name': 'reliance-industries-ltd', 'company_code': 13215, 'company_sector': 'Diversified', 'company_industry': 'Diversified'}\n"
     ]
    }
   ],
   "source": [
    "for i in coll.find():\n",
    "    print(i)"
   ]
  },
  {
   "cell_type": "code",
   "execution_count": 15,
   "id": "fea11161",
   "metadata": {},
   "outputs": [
    {
     "data": {
      "text/plain": [
       "['income-annual',\n",
       " 'ratios',\n",
       " 'cash-flow',\n",
       " 'income-quaterly',\n",
       " 'balance-sheet',\n",
       " 'nse_companies',\n",
       " 'company_details']"
      ]
     },
     "execution_count": 15,
     "metadata": {},
     "output_type": "execute_result"
    }
   ],
   "source": [
    "m_db.list_collection_names()"
   ]
  },
  {
   "cell_type": "code",
   "execution_count": 16,
   "id": "482107d5",
   "metadata": {},
   "outputs": [
    {
     "data": {
      "text/plain": [
       "['builtins', 'builtins', 'pandas', 'pymongo', 'types']"
      ]
     },
     "execution_count": 16,
     "metadata": {},
     "output_type": "execute_result"
    }
   ],
   "source": [
    "import types\n",
    "def imports():\n",
    "    for name, val in globals().items():\n",
    "        if isinstance(val, types.ModuleType):\n",
    "            yield val.__name__\n",
    "list(imports())"
   ]
  },
  {
   "cell_type": "code",
   "execution_count": null,
   "id": "eb1e4e93",
   "metadata": {},
   "outputs": [],
   "source": []
  }
 ],
 "metadata": {
  "kernelspec": {
   "display_name": "Python 3 (ipykernel)",
   "language": "python",
   "name": "python3"
  },
  "language_info": {
   "codemirror_mode": {
    "name": "ipython",
    "version": 3
   },
   "file_extension": ".py",
   "mimetype": "text/x-python",
   "name": "python",
   "nbconvert_exporter": "python",
   "pygments_lexer": "ipython3",
   "version": "3.8.10"
  }
 },
 "nbformat": 4,
 "nbformat_minor": 5
}
